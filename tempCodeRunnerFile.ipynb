'''plt.figure(figsize=(6, 4))
    plt.bar(range(1, n_components+1), explained_variance, alpha=0.7, align='center', label='Individual Explained Variance')
    plt.ylabel('Explained Variance Ratio')
    plt.xlabel('Principal Components')
    plt.title('Explained Variance by Each Principal Component')
    plt.legend()
    plt.show()'''